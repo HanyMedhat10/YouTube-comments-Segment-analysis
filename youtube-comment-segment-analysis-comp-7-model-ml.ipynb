{
 "cells": [
  {
   "cell_type": "code",
   "execution_count": 1,
   "metadata": {
    "execution": {
     "iopub.execute_input": "2025-02-01T19:42:53.834913Z",
     "iopub.status.busy": "2025-02-01T19:42:53.834462Z",
     "iopub.status.idle": "2025-02-01T19:42:55.244718Z",
     "shell.execute_reply": "2025-02-01T19:42:55.243620Z",
     "shell.execute_reply.started": "2025-02-01T19:42:53.834876Z"
    },
    "trusted": true
   },
   "outputs": [
    {
     "name": "stderr",
     "output_type": "stream",
     "text": [
      "[nltk_data] Downloading package stopwords to C:\\Users\\Hany\n",
      "[nltk_data]     Medhat\\AppData\\Roaming\\nltk_data...\n",
      "[nltk_data]   Package stopwords is already up-to-date!\n"
     ]
    },
    {
     "data": {
      "text/plain": [
       "True"
      ]
     },
     "execution_count": 1,
     "metadata": {},
     "output_type": "execute_result"
    }
   ],
   "source": [
    "# Import libraries \n",
    "import pandas as pd\n",
    "import numpy as np\n",
    "import matplotlib.pyplot as plt\n",
    "import seaborn as sns\n",
    "# Machine learning libraries\n",
    "from sklearn.model_selection import train_test_split\n",
    "from sklearn.feature_extraction.text import TfidfVectorizer\n",
    "from sklearn.naive_bayes import MultinomialNB\n",
    "from sklearn.svm import SVC\n",
    "from sklearn.metrics import accuracy_score, classification_report\n",
    "from nltk.corpus import stopwords\n",
    "from nltk.stem import SnowballStemmer\n",
    "import string\n",
    "import nltk\n",
    "nltk.download('stopwords')"
   ]
  },
  {
   "cell_type": "code",
   "execution_count": 2,
   "metadata": {
    "execution": {
     "iopub.execute_input": "2025-02-01T19:42:55.246822Z",
     "iopub.status.busy": "2025-02-01T19:42:55.246147Z",
     "iopub.status.idle": "2025-02-01T19:42:55.333091Z",
     "shell.execute_reply": "2025-02-01T19:42:55.331754Z",
     "shell.execute_reply.started": "2025-02-01T19:42:55.246777Z"
    },
    "trusted": true
   },
   "outputs": [
    {
     "data": {
      "text/html": [
       "<div>\n",
       "<style scoped>\n",
       "    .dataframe tbody tr th:only-of-type {\n",
       "        vertical-align: middle;\n",
       "    }\n",
       "\n",
       "    .dataframe tbody tr th {\n",
       "        vertical-align: top;\n",
       "    }\n",
       "\n",
       "    .dataframe thead th {\n",
       "        text-align: right;\n",
       "    }\n",
       "</style>\n",
       "<table border=\"1\" class=\"dataframe\">\n",
       "  <thead>\n",
       "    <tr style=\"text-align: right;\">\n",
       "      <th></th>\n",
       "      <th>Comment</th>\n",
       "      <th>Sentiment</th>\n",
       "    </tr>\n",
       "  </thead>\n",
       "  <tbody>\n",
       "    <tr>\n",
       "      <th>0</th>\n",
       "      <td>lets not forget that apple pay in 2014 require...</td>\n",
       "      <td>neutral</td>\n",
       "    </tr>\n",
       "    <tr>\n",
       "      <th>1</th>\n",
       "      <td>here in nz 50 of retailers don’t even have con...</td>\n",
       "      <td>negative</td>\n",
       "    </tr>\n",
       "    <tr>\n",
       "      <th>2</th>\n",
       "      <td>i will forever acknowledge this channel with t...</td>\n",
       "      <td>positive</td>\n",
       "    </tr>\n",
       "    <tr>\n",
       "      <th>3</th>\n",
       "      <td>whenever i go to a place that doesn’t take app...</td>\n",
       "      <td>negative</td>\n",
       "    </tr>\n",
       "    <tr>\n",
       "      <th>4</th>\n",
       "      <td>apple pay is so convenient secure and easy to ...</td>\n",
       "      <td>positive</td>\n",
       "    </tr>\n",
       "    <tr>\n",
       "      <th>...</th>\n",
       "      <td>...</td>\n",
       "      <td>...</td>\n",
       "    </tr>\n",
       "    <tr>\n",
       "      <th>18403</th>\n",
       "      <td>i really like the point about engineering tool...</td>\n",
       "      <td>positive</td>\n",
       "    </tr>\n",
       "    <tr>\n",
       "      <th>18404</th>\n",
       "      <td>i’ve just started exploring this field and thi...</td>\n",
       "      <td>positive</td>\n",
       "    </tr>\n",
       "    <tr>\n",
       "      <th>18405</th>\n",
       "      <td>excelente video con una pregunta filosófica pr...</td>\n",
       "      <td>neutral</td>\n",
       "    </tr>\n",
       "    <tr>\n",
       "      <th>18406</th>\n",
       "      <td>hey daniel just discovered your channel a coup...</td>\n",
       "      <td>positive</td>\n",
       "    </tr>\n",
       "    <tr>\n",
       "      <th>18407</th>\n",
       "      <td>this is great focus is key a playful approach ...</td>\n",
       "      <td>positive</td>\n",
       "    </tr>\n",
       "  </tbody>\n",
       "</table>\n",
       "<p>18408 rows × 2 columns</p>\n",
       "</div>"
      ],
      "text/plain": [
       "                                                 Comment Sentiment\n",
       "0      lets not forget that apple pay in 2014 require...   neutral\n",
       "1      here in nz 50 of retailers don’t even have con...  negative\n",
       "2      i will forever acknowledge this channel with t...  positive\n",
       "3      whenever i go to a place that doesn’t take app...  negative\n",
       "4      apple pay is so convenient secure and easy to ...  positive\n",
       "...                                                  ...       ...\n",
       "18403  i really like the point about engineering tool...  positive\n",
       "18404  i’ve just started exploring this field and thi...  positive\n",
       "18405  excelente video con una pregunta filosófica pr...   neutral\n",
       "18406  hey daniel just discovered your channel a coup...  positive\n",
       "18407  this is great focus is key a playful approach ...  positive\n",
       "\n",
       "[18408 rows x 2 columns]"
      ]
     },
     "execution_count": 2,
     "metadata": {},
     "output_type": "execute_result"
    }
   ],
   "source": [
    "df = pd.read_csv(\"YoutubeCommentsDataSet.csv\")\n",
    "df"
   ]
  },
  {
   "cell_type": "code",
   "execution_count": 3,
   "metadata": {
    "execution": {
     "iopub.execute_input": "2025-02-01T19:42:55.335253Z",
     "iopub.status.busy": "2025-02-01T19:42:55.334899Z",
     "iopub.status.idle": "2025-02-01T19:42:55.351762Z",
     "shell.execute_reply": "2025-02-01T19:42:55.350518Z",
     "shell.execute_reply.started": "2025-02-01T19:42:55.335221Z"
    },
    "trusted": true
   },
   "outputs": [
    {
     "name": "stdout",
     "output_type": "stream",
     "text": [
      "<class 'pandas.core.frame.DataFrame'>\n",
      "RangeIndex: 18408 entries, 0 to 18407\n",
      "Data columns (total 2 columns):\n",
      " #   Column     Non-Null Count  Dtype \n",
      "---  ------     --------------  ----- \n",
      " 0   Comment    18364 non-null  object\n",
      " 1   Sentiment  18408 non-null  object\n",
      "dtypes: object(2)\n",
      "memory usage: 287.8+ KB\n"
     ]
    }
   ],
   "source": [
    "df.info()"
   ]
  },
  {
   "cell_type": "code",
   "execution_count": 4,
   "metadata": {
    "execution": {
     "iopub.execute_input": "2025-02-01T19:42:55.353386Z",
     "iopub.status.busy": "2025-02-01T19:42:55.353021Z",
     "iopub.status.idle": "2025-02-01T19:42:55.395765Z",
     "shell.execute_reply": "2025-02-01T19:42:55.394647Z",
     "shell.execute_reply.started": "2025-02-01T19:42:55.353358Z"
    },
    "trusted": true
   },
   "outputs": [
    {
     "data": {
      "text/html": [
       "<div>\n",
       "<style scoped>\n",
       "    .dataframe tbody tr th:only-of-type {\n",
       "        vertical-align: middle;\n",
       "    }\n",
       "\n",
       "    .dataframe tbody tr th {\n",
       "        vertical-align: top;\n",
       "    }\n",
       "\n",
       "    .dataframe thead th {\n",
       "        text-align: right;\n",
       "    }\n",
       "</style>\n",
       "<table border=\"1\" class=\"dataframe\">\n",
       "  <thead>\n",
       "    <tr style=\"text-align: right;\">\n",
       "      <th></th>\n",
       "      <th>count</th>\n",
       "      <th>unique</th>\n",
       "      <th>top</th>\n",
       "      <th>freq</th>\n",
       "    </tr>\n",
       "  </thead>\n",
       "  <tbody>\n",
       "    <tr>\n",
       "      <th>Comment</th>\n",
       "      <td>18364</td>\n",
       "      <td>17871</td>\n",
       "      <td>one of the best thing about dude is that he ne...</td>\n",
       "      <td>10</td>\n",
       "    </tr>\n",
       "    <tr>\n",
       "      <th>Sentiment</th>\n",
       "      <td>18408</td>\n",
       "      <td>3</td>\n",
       "      <td>positive</td>\n",
       "      <td>11432</td>\n",
       "    </tr>\n",
       "  </tbody>\n",
       "</table>\n",
       "</div>"
      ],
      "text/plain": [
       "           count unique                                                top  \\\n",
       "Comment    18364  17871  one of the best thing about dude is that he ne...   \n",
       "Sentiment  18408      3                                           positive   \n",
       "\n",
       "            freq  \n",
       "Comment       10  \n",
       "Sentiment  11432  "
      ]
     },
     "execution_count": 4,
     "metadata": {},
     "output_type": "execute_result"
    }
   ],
   "source": [
    "df.describe().T"
   ]
  },
  {
   "cell_type": "code",
   "execution_count": 6,
   "metadata": {
    "execution": {
     "iopub.execute_input": "2025-02-01T19:42:55.396933Z",
     "iopub.status.busy": "2025-02-01T19:42:55.396667Z",
     "iopub.status.idle": "2025-02-01T19:42:55.411294Z",
     "shell.execute_reply": "2025-02-01T19:42:55.410238Z",
     "shell.execute_reply.started": "2025-02-01T19:42:55.396912Z"
    },
    "trusted": true
   },
   "outputs": [
    {
     "data": {
      "text/plain": [
       "531"
      ]
     },
     "execution_count": 6,
     "metadata": {},
     "output_type": "execute_result"
    }
   ],
   "source": [
    "df.duplicated().sum()"
   ]
  },
  {
   "cell_type": "code",
   "execution_count": 7,
   "metadata": {
    "execution": {
     "iopub.execute_input": "2025-02-01T19:42:55.412693Z",
     "iopub.status.busy": "2025-02-01T19:42:55.412359Z",
     "iopub.status.idle": "2025-02-01T19:42:55.428543Z",
     "shell.execute_reply": "2025-02-01T19:42:55.427469Z",
     "shell.execute_reply.started": "2025-02-01T19:42:55.412656Z"
    },
    "trusted": true
   },
   "outputs": [],
   "source": [
    "df.drop_duplicates(subset=['Comment'],inplace=True)"
   ]
  },
  {
   "cell_type": "code",
   "execution_count": 8,
   "metadata": {
    "execution": {
     "iopub.execute_input": "2025-02-01T19:42:55.429902Z",
     "iopub.status.busy": "2025-02-01T19:42:55.429486Z",
     "iopub.status.idle": "2025-02-01T19:42:55.450917Z",
     "shell.execute_reply": "2025-02-01T19:42:55.449767Z",
     "shell.execute_reply.started": "2025-02-01T19:42:55.429853Z"
    },
    "trusted": true
   },
   "outputs": [
    {
     "data": {
      "text/plain": [
       "Comment      1\n",
       "Sentiment    0\n",
       "dtype: int64"
      ]
     },
     "execution_count": 8,
     "metadata": {},
     "output_type": "execute_result"
    }
   ],
   "source": [
    "df.isnull().sum()"
   ]
  },
  {
   "cell_type": "code",
   "execution_count": 9,
   "metadata": {
    "execution": {
     "iopub.execute_input": "2025-02-01T19:42:55.454246Z",
     "iopub.status.busy": "2025-02-01T19:42:55.453889Z",
     "iopub.status.idle": "2025-02-01T19:42:55.471824Z",
     "shell.execute_reply": "2025-02-01T19:42:55.470747Z",
     "shell.execute_reply.started": "2025-02-01T19:42:55.454219Z"
    },
    "trusted": true
   },
   "outputs": [],
   "source": [
    "df.dropna(inplace = True)"
   ]
  },
  {
   "cell_type": "code",
   "execution_count": 10,
   "metadata": {
    "execution": {
     "iopub.execute_input": "2025-02-01T19:42:55.474633Z",
     "iopub.status.busy": "2025-02-01T19:42:55.474182Z",
     "iopub.status.idle": "2025-02-01T19:42:55.491664Z",
     "shell.execute_reply": "2025-02-01T19:42:55.490626Z",
     "shell.execute_reply.started": "2025-02-01T19:42:55.474589Z"
    },
    "trusted": true
   },
   "outputs": [
    {
     "data": {
      "text/plain": [
       "Sentiment\n",
       "positive    11052\n",
       "neutral      4502\n",
       "negative     2317\n",
       "Name: count, dtype: int64"
      ]
     },
     "execution_count": 10,
     "metadata": {},
     "output_type": "execute_result"
    }
   ],
   "source": [
    "df['Sentiment'].value_counts()"
   ]
  },
  {
   "cell_type": "code",
   "execution_count": 11,
   "metadata": {
    "execution": {
     "iopub.execute_input": "2025-02-01T19:42:55.493042Z",
     "iopub.status.busy": "2025-02-01T19:42:55.492761Z",
     "iopub.status.idle": "2025-02-01T19:42:55.611332Z",
     "shell.execute_reply": "2025-02-01T19:42:55.610107Z",
     "shell.execute_reply.started": "2025-02-01T19:42:55.493019Z"
    },
    "trusted": true
   },
   "outputs": [
    {
     "data": {
      "image/png": "[encoded data removed]",
      "text/plain": [
       "<Figure size 640x480 with 1 Axes>"
      ]
     },
     "metadata": {},
     "output_type": "display_data"
    }
   ],
   "source": [
    "# lets check through pie chart\n",
    "# labels = ['ham', 'spam']\n",
    "labels = df['Sentiment'].value_counts().index\n",
    "sizes = df['Sentiment'].value_counts().values\n",
    "colors = ['#FF9999', '#66B3FF', '#99FF99', '#FFCC99', '#FFD700']  # Define custom colors\n",
    "\n",
    "plt.pie(sizes, labels=labels, colors=colors, autopct='%1.1f%%')\n",
    "plt.axis('equal')  # Ensures the pie chart is a circle\n",
    "plt.show()"
   ]
  },
  {
   "cell_type": "code",
   "execution_count": 12,
   "metadata": {
    "execution": {
     "iopub.execute_input": "2025-02-01T19:42:55.612723Z",
     "iopub.status.busy": "2025-02-01T19:42:55.612381Z",
     "iopub.status.idle": "2025-02-01T19:42:55.633147Z",
     "shell.execute_reply": "2025-02-01T19:42:55.631637Z",
     "shell.execute_reply.started": "2025-02-01T19:42:55.612696Z"
    },
    "trusted": true
   },
   "outputs": [
    {
     "name": "stderr",
     "output_type": "stream",
     "text": [
      "C:\\Users\\Hany Medhat\\AppData\\Local\\Temp\\ipykernel_22904\\2927737834.py:1: FutureWarning: Downcasting behavior in `replace` is deprecated and will be removed in a future version. To retain the old behavior, explicitly call `result.infer_objects(copy=False)`. To opt-in to the future behavior, set `pd.set_option('future.no_silent_downcasting', True)`\n",
      "  df['Sentiment'] = df['Sentiment'].replace({'negative': 0, 'neutral': 1, 'positive': 2})\n"
     ]
    },
    {
     "data": {
      "text/html": [
       "<div>\n",
       "<style scoped>\n",
       "    .dataframe tbody tr th:only-of-type {\n",
       "        vertical-align: middle;\n",
       "    }\n",
       "\n",
       "    .dataframe tbody tr th {\n",
       "        vertical-align: top;\n",
       "    }\n",
       "\n",
       "    .dataframe thead th {\n",
       "        text-align: right;\n",
       "    }\n",
       "</style>\n",
       "<table border=\"1\" class=\"dataframe\">\n",
       "  <thead>\n",
       "    <tr style=\"text-align: right;\">\n",
       "      <th></th>\n",
       "      <th>Comment</th>\n",
       "      <th>Sentiment</th>\n",
       "    </tr>\n",
       "  </thead>\n",
       "  <tbody>\n",
       "    <tr>\n",
       "      <th>0</th>\n",
       "      <td>lets not forget that apple pay in 2014 require...</td>\n",
       "      <td>1</td>\n",
       "    </tr>\n",
       "    <tr>\n",
       "      <th>1</th>\n",
       "      <td>here in nz 50 of retailers don’t even have con...</td>\n",
       "      <td>0</td>\n",
       "    </tr>\n",
       "    <tr>\n",
       "      <th>2</th>\n",
       "      <td>i will forever acknowledge this channel with t...</td>\n",
       "      <td>2</td>\n",
       "    </tr>\n",
       "    <tr>\n",
       "      <th>3</th>\n",
       "      <td>whenever i go to a place that doesn’t take app...</td>\n",
       "      <td>0</td>\n",
       "    </tr>\n",
       "    <tr>\n",
       "      <th>4</th>\n",
       "      <td>apple pay is so convenient secure and easy to ...</td>\n",
       "      <td>2</td>\n",
       "    </tr>\n",
       "  </tbody>\n",
       "</table>\n",
       "</div>"
      ],
      "text/plain": [
       "                                             Comment  Sentiment\n",
       "0  lets not forget that apple pay in 2014 require...          1\n",
       "1  here in nz 50 of retailers don’t even have con...          0\n",
       "2  i will forever acknowledge this channel with t...          2\n",
       "3  whenever i go to a place that doesn’t take app...          0\n",
       "4  apple pay is so convenient secure and easy to ...          2"
      ]
     },
     "execution_count": 12,
     "metadata": {},
     "output_type": "execute_result"
    }
   ],
   "source": [
    "df['Sentiment'] = df['Sentiment'].replace({'negative': 0, 'neutral': 1, 'positive': 2})\n",
    "df.head()"
   ]
  },
  {
   "cell_type": "code",
   "execution_count": 13,
   "metadata": {
    "execution": {
     "iopub.execute_input": "2025-02-01T19:42:55.634569Z",
     "iopub.status.busy": "2025-02-01T19:42:55.634224Z",
     "iopub.status.idle": "2025-02-01T19:42:55.979614Z",
     "shell.execute_reply": "2025-02-01T19:42:55.978448Z",
     "shell.execute_reply.started": "2025-02-01T19:42:55.634530Z"
    },
    "trusted": true
   },
   "outputs": [
    {
     "name": "stderr",
     "output_type": "stream",
     "text": [
      "C:\\Users\\Hany Medhat\\AppData\\Local\\Temp\\ipykernel_22904\\3898544357.py:5: UserWarning: Ignoring `palette` because no `hue` variable has been assigned.\n",
      "  sns.histplot(data=df, x=\"Sentiment\",  palette=\"Dark2\", edgecolor=\"black\", linewidth=1.5)\n"
     ]
    },
    {
     "data": {
      "image/png": "[encoded data removed]",
      "text/plain": [
       "<Figure size 640x480 with 1 Axes>"
      ]
     },
     "metadata": {},
     "output_type": "display_data"
    }
   ],
   "source": [
    "# Set the overall aesthetic of the plots\n",
    "sns.set(style=\"whitegrid\")  # Professional style with grid\n",
    "\n",
    "# Use the 'Dark2' palette for professional color tones\n",
    "sns.histplot(data=df, x=\"Sentiment\",  palette=\"Dark2\", edgecolor=\"black\", linewidth=1.5)\n",
    "\n",
    "plt.title(\"Distribution of Label Numbers\", fontsize=16, fontweight='bold')\n",
    "plt.xlabel(\"Label Numbers\", fontsize=14)\n",
    "plt.ylabel(\"Counting\", fontsize=14)\n",
    "\n",
    "plt.show()"
   ]
  },
  {
   "cell_type": "markdown",
   "metadata": {},
   "source": [
    "This commit addresses the issue of class imbalance in the classification model, which was leading to biased predictions. The changes implemented include:\n",
    "- Oversampling the minority class to balance the training data.\n",
    "- Adjusting decision thresholds to improve sensitivity towards the minority class.\n",
    "- Evaluating the model using metrics that are robust to class imbalance, such as F1-score.\n",
    "\n",
    "These changes have resulted in a more balanced model with improved performance across all classes"
   ]
  },
  {
   "cell_type": "code",
   "execution_count": 14,
   "metadata": {
    "execution": {
     "iopub.execute_input": "2025-02-01T19:42:55.981217Z",
     "iopub.status.busy": "2025-02-01T19:42:55.980800Z",
     "iopub.status.idle": "2025-02-01T19:42:56.000348Z",
     "shell.execute_reply": "2025-02-01T19:42:55.999249Z",
     "shell.execute_reply.started": "2025-02-01T19:42:55.981175Z"
    },
    "trusted": true
   },
   "outputs": [
    {
     "data": {
      "text/html": [
       "<div>\n",
       "<style scoped>\n",
       "    .dataframe tbody tr th:only-of-type {\n",
       "        vertical-align: middle;\n",
       "    }\n",
       "\n",
       "    .dataframe tbody tr th {\n",
       "        vertical-align: top;\n",
       "    }\n",
       "\n",
       "    .dataframe thead th {\n",
       "        text-align: right;\n",
       "    }\n",
       "</style>\n",
       "<table border=\"1\" class=\"dataframe\">\n",
       "  <thead>\n",
       "    <tr style=\"text-align: right;\">\n",
       "      <th></th>\n",
       "      <th>Comment</th>\n",
       "      <th>Sentiment</th>\n",
       "    </tr>\n",
       "  </thead>\n",
       "  <tbody>\n",
       "    <tr>\n",
       "      <th>0</th>\n",
       "      <td>lets not forget that apple pay in 2014 require...</td>\n",
       "      <td>1</td>\n",
       "    </tr>\n",
       "    <tr>\n",
       "      <th>1</th>\n",
       "      <td>here in nz 50 of retailers don’t even have con...</td>\n",
       "      <td>0</td>\n",
       "    </tr>\n",
       "    <tr>\n",
       "      <th>2</th>\n",
       "      <td>i will forever acknowledge this channel with t...</td>\n",
       "      <td>2</td>\n",
       "    </tr>\n",
       "    <tr>\n",
       "      <th>3</th>\n",
       "      <td>whenever i go to a place that doesn’t take app...</td>\n",
       "      <td>0</td>\n",
       "    </tr>\n",
       "    <tr>\n",
       "      <th>4</th>\n",
       "      <td>apple pay is so convenient secure and easy to ...</td>\n",
       "      <td>2</td>\n",
       "    </tr>\n",
       "    <tr>\n",
       "      <th>...</th>\n",
       "      <td>...</td>\n",
       "      <td>...</td>\n",
       "    </tr>\n",
       "    <tr>\n",
       "      <th>18210</th>\n",
       "      <td>teacher bot cant teach but it can test did you...</td>\n",
       "      <td>0</td>\n",
       "    </tr>\n",
       "    <tr>\n",
       "      <th>18233</th>\n",
       "      <td>its not always that you want an unlimited data...</td>\n",
       "      <td>0</td>\n",
       "    </tr>\n",
       "    <tr>\n",
       "      <th>18257</th>\n",
       "      <td>dissapointed you did not animate a 13000dimens...</td>\n",
       "      <td>0</td>\n",
       "    </tr>\n",
       "    <tr>\n",
       "      <th>18359</th>\n",
       "      <td>in my eyes the second con is the worst thing t...</td>\n",
       "      <td>0</td>\n",
       "    </tr>\n",
       "    <tr>\n",
       "      <th>18365</th>\n",
       "      <td>the only thing holding me back is that it took...</td>\n",
       "      <td>0</td>\n",
       "    </tr>\n",
       "  </tbody>\n",
       "</table>\n",
       "<p>6951 rows × 2 columns</p>\n",
       "</div>"
      ],
      "text/plain": [
       "                                                 Comment  Sentiment\n",
       "0      lets not forget that apple pay in 2014 require...          1\n",
       "1      here in nz 50 of retailers don’t even have con...          0\n",
       "2      i will forever acknowledge this channel with t...          2\n",
       "3      whenever i go to a place that doesn’t take app...          0\n",
       "4      apple pay is so convenient secure and easy to ...          2\n",
       "...                                                  ...        ...\n",
       "18210  teacher bot cant teach but it can test did you...          0\n",
       "18233  its not always that you want an unlimited data...          0\n",
       "18257  dissapointed you did not animate a 13000dimens...          0\n",
       "18359  in my eyes the second con is the worst thing t...          0\n",
       "18365  the only thing holding me back is that it took...          0\n",
       "\n",
       "[6951 rows x 2 columns]"
      ]
     },
     "execution_count": 14,
     "metadata": {},
     "output_type": "execute_result"
    }
   ],
   "source": [
    "df.drop(df[df['Sentiment'] == 1].index[2317:],  inplace=True)\n",
    "df.drop(df[df['Sentiment'] == 2].index[2317:],  inplace=True)\n",
    "df"
   ]
  },
  {
   "cell_type": "code",
   "execution_count": 15,
   "metadata": {
    "execution": {
     "iopub.execute_input": "2025-02-01T19:42:56.001842Z",
     "iopub.status.busy": "2025-02-01T19:42:56.001476Z",
     "iopub.status.idle": "2025-02-01T19:42:56.114064Z",
     "shell.execute_reply": "2025-02-01T19:42:56.112836Z",
     "shell.execute_reply.started": "2025-02-01T19:42:56.001811Z"
    },
    "trusted": true
   },
   "outputs": [
    {
     "data": {
      "image/png": "[encoded data removed]",
      "text/plain": [
       "<Figure size 640x480 with 1 Axes>"
      ]
     },
     "metadata": {},
     "output_type": "display_data"
    }
   ],
   "source": [
    "# lets check through pie chart\n",
    "# labels = df['Sentiment'].value_counts().index\n",
    "labels = ['negative', 'neutral', 'positive']\n",
    "sizes = df['Sentiment'].value_counts().values\n",
    "colors = ['#FF9999', '#66B3FF', '#99FF99', '#FFCC99', '#FFD700']  # Define custom colors\n",
    "\n",
    "plt.pie(sizes, labels=labels, colors=colors, autopct='%1.1f%%')\n",
    "plt.axis('equal')  # Ensures the pie chart is a circle\n",
    "plt.show()"
   ]
  },
  {
   "cell_type": "code",
   "execution_count": 16,
   "metadata": {
    "execution": {
     "iopub.execute_input": "2025-02-01T19:42:56.115310Z",
     "iopub.status.busy": "2025-02-01T19:42:56.115028Z",
     "iopub.status.idle": "2025-02-01T19:42:56.524555Z",
     "shell.execute_reply": "2025-02-01T19:42:56.523607Z",
     "shell.execute_reply.started": "2025-02-01T19:42:56.115286Z"
    },
    "trusted": true
   },
   "outputs": [
    {
     "data": {
      "image/png": "[encoded data removed]",
      "text/plain": [
       "<Figure size 640x480 with 1 Axes>"
      ]
     },
     "metadata": {},
     "output_type": "display_data"
    }
   ],
   "source": [
    "# Set the overall aesthetic of the plots\n",
    "sns.set(style=\"whitegrid\")  # Professional style with grid\n",
    "\n",
    "# Use the 'Dark2' palette for professional color tones\n",
    "sns.histplot(data=df, x=\"Sentiment\",hue=\"Sentiment\",  palette=\"Dark2\", edgecolor=\"black\", linewidth=1.5)\n",
    "\n",
    "plt.title(\"Distribution of Label Numbers\", fontsize=16, fontweight='bold')\n",
    "plt.xlabel(\"Label Numbers\", fontsize=14)\n",
    "plt.ylabel(\"Counting\", fontsize=14)\n",
    "\n",
    "plt.show()"
   ]
  },
  {
   "cell_type": "code",
   "execution_count": 17,
   "metadata": {
    "execution": {
     "iopub.execute_input": "2025-02-01T19:42:56.525789Z",
     "iopub.status.busy": "2025-02-01T19:42:56.525453Z",
     "iopub.status.idle": "2025-02-01T19:43:00.031063Z",
     "shell.execute_reply": "2025-02-01T19:43:00.030013Z",
     "shell.execute_reply.started": "2025-02-01T19:42:56.525763Z"
    },
    "trusted": true
   },
   "outputs": [],
   "source": [
    "# Create the function to preprocess the text\n",
    "def clean_text(text):\n",
    "    \n",
    "    # Remove the punctuations\n",
    "    text = ''.join([char for char in text if char not in string.punctuation])\n",
    "    \n",
    "    # Tokenize the words\n",
    "    words = text.split()\n",
    "    \n",
    "    # Remove stopwords and apply stemming (the library we use)\n",
    "    stop_words = stopwords.words('english')\n",
    "    stemmer = SnowballStemmer('english')\n",
    "    words = [stemmer.stem(word) for word in words if word.lower() not in stop_words]\n",
    "    return ' '.join(words)\n",
    "\n",
    "df['clean_text'] = df['Comment'].apply(clean_text)"
   ]
  },
  {
   "cell_type": "code",
   "execution_count": 18,
   "metadata": {
    "execution": {
     "iopub.execute_input": "2025-02-01T19:43:00.032335Z",
     "iopub.status.busy": "2025-02-01T19:43:00.032080Z",
     "iopub.status.idle": "2025-02-01T19:43:00.219461Z",
     "shell.execute_reply": "2025-02-01T19:43:00.218486Z",
     "shell.execute_reply.started": "2025-02-01T19:43:00.032315Z"
    },
    "trusted": true
   },
   "outputs": [],
   "source": [
    "tfidf_vectorizer = TfidfVectorizer()\n",
    "X=tfidf_vectorizer.fit_transform(df[\"clean_text\"])\n",
    "y=df[\"Sentiment\"]"
   ]
  },
  {
   "cell_type": "code",
   "execution_count": 19,
   "metadata": {
    "execution": {
     "iopub.execute_input": "2025-02-01T19:43:00.220624Z",
     "iopub.status.busy": "2025-02-01T19:43:00.220297Z",
     "iopub.status.idle": "2025-02-01T19:43:00.232452Z",
     "shell.execute_reply": "2025-02-01T19:43:00.231111Z",
     "shell.execute_reply.started": "2025-02-01T19:43:00.220599Z"
    },
    "trusted": true
   },
   "outputs": [],
   "source": [
    "X_train, X_text, y_train, y_test=train_test_split(X, y ,test_size=0.2,random_state=42, stratify=y)"
   ]
  },
  {
   "cell_type": "code",
   "execution_count": 20,
   "metadata": {
    "execution": {
     "iopub.execute_input": "2025-02-01T19:43:00.234586Z",
     "iopub.status.busy": "2025-02-01T19:43:00.234115Z",
     "iopub.status.idle": "2025-02-01T19:43:00.241965Z",
     "shell.execute_reply": "2025-02-01T19:43:00.240692Z",
     "shell.execute_reply.started": "2025-02-01T19:43:00.234540Z"
    },
    "trusted": true
   },
   "outputs": [],
   "source": [
    "from sklearn.linear_model import LogisticRegression\n",
    "lg = LogisticRegression()"
   ]
  },
  {
   "cell_type": "code",
   "execution_count": 21,
   "metadata": {
    "execution": {
     "iopub.execute_input": "2025-02-01T19:43:00.243393Z",
     "iopub.status.busy": "2025-02-01T19:43:00.243111Z",
     "iopub.status.idle": "2025-02-01T19:43:00.276787Z",
     "shell.execute_reply": "2025-02-01T19:43:00.275806Z",
     "shell.execute_reply.started": "2025-02-01T19:43:00.243371Z"
    },
    "trusted": true
   },
   "outputs": [],
   "source": [
    "from sklearn.neighbors import KNeighborsClassifier\n",
    "knn=KNeighborsClassifier(n_neighbors=7)"
   ]
  },
  {
   "cell_type": "code",
   "execution_count": 22,
   "metadata": {
    "execution": {
     "iopub.execute_input": "2025-02-01T19:43:00.278213Z",
     "iopub.status.busy": "2025-02-01T19:43:00.277935Z",
     "iopub.status.idle": "2025-02-01T19:43:00.289953Z",
     "shell.execute_reply": "2025-02-01T19:43:00.288832Z",
     "shell.execute_reply.started": "2025-02-01T19:43:00.278191Z"
    },
    "trusted": true
   },
   "outputs": [],
   "source": [
    "from sklearn.tree import DecisionTreeClassifier\n",
    "dtc=DecisionTreeClassifier()"
   ]
  },
  {
   "cell_type": "code",
   "execution_count": 23,
   "metadata": {
    "execution": {
     "iopub.execute_input": "2025-02-01T19:43:00.291434Z",
     "iopub.status.busy": "2025-02-01T19:43:00.291113Z",
     "iopub.status.idle": "2025-02-01T19:43:00.424160Z",
     "shell.execute_reply": "2025-02-01T19:43:00.422949Z",
     "shell.execute_reply.started": "2025-02-01T19:43:00.291407Z"
    },
    "trusted": true
   },
   "outputs": [],
   "source": [
    "from sklearn.ensemble import RandomForestClassifier\n",
    "rfc=RandomForestClassifier()"
   ]
  },
  {
   "cell_type": "code",
   "execution_count": 24,
   "metadata": {
    "execution": {
     "iopub.execute_input": "2025-02-01T19:43:00.428016Z",
     "iopub.status.busy": "2025-02-01T19:43:00.427654Z",
     "iopub.status.idle": "2025-02-01T19:43:00.458511Z",
     "shell.execute_reply": "2025-02-01T19:43:00.457384Z",
     "shell.execute_reply.started": "2025-02-01T19:43:00.427987Z"
    },
    "trusted": true
   },
   "outputs": [],
   "source": [
    "from xgboost import XGBClassifier\n",
    "xgb=XGBClassifier()"
   ]
  },
  {
   "cell_type": "code",
   "execution_count": 25,
   "metadata": {
    "execution": {
     "iopub.execute_input": "2025-02-01T19:43:00.460120Z",
     "iopub.status.busy": "2025-02-01T19:43:00.459810Z",
     "iopub.status.idle": "2025-02-01T19:43:44.371205Z",
     "shell.execute_reply": "2025-02-01T19:43:44.368768Z",
     "shell.execute_reply.started": "2025-02-01T19:43:00.460095Z"
    },
    "trusted": true
   },
   "outputs": [
    {
     "name": "stdout",
     "output_type": "stream",
     "text": [
      "Naive Bayes Accuracy: 0.69\n",
      "-----------------------------------------------------\n",
      "              precision    recall  f1-score   support\n",
      "\n",
      "           0       0.64      0.85      0.73       463\n",
      "           1       0.82      0.37      0.51       464\n",
      "           2       0.68      0.84      0.75       464\n",
      "\n",
      "    accuracy                           0.69      1391\n",
      "   macro avg       0.71      0.69      0.66      1391\n",
      "weighted avg       0.71      0.69      0.66      1391\n",
      "\n",
      "SVM Accuracy: 0.70\n",
      "-----------------------------------------------------\n",
      "              precision    recall  f1-score   support\n",
      "\n",
      "           0       0.68      0.68      0.68       463\n",
      "           1       0.59      0.73      0.66       464\n",
      "           2       0.87      0.67      0.76       464\n",
      "\n",
      "    accuracy                           0.70      1391\n",
      "   macro avg       0.72      0.70      0.70      1391\n",
      "weighted avg       0.72      0.70      0.70      1391\n",
      "\n",
      "LogisticRegression Accuracy: 0.70\n",
      "-----------------------------------------------------\n",
      "              precision    recall  f1-score   support\n",
      "\n",
      "           0       0.69      0.67      0.68       463\n",
      "           1       0.60      0.70      0.65       464\n",
      "           2       0.83      0.72      0.77       464\n",
      "\n",
      "    accuracy                           0.70      1391\n",
      "   macro avg       0.71      0.70      0.70      1391\n",
      "weighted avg       0.71      0.70      0.70      1391\n",
      "\n",
      "KNN Accuracy: 0.54\n",
      "-----------------------------------------------------\n",
      "              precision    recall  f1-score   support\n",
      "\n",
      "           0       0.66      0.32      0.43       463\n",
      "           1       0.43      0.79      0.56       464\n",
      "           2       0.75      0.50      0.60       464\n",
      "\n",
      "    accuracy                           0.54      1391\n",
      "   macro avg       0.61      0.54      0.53      1391\n",
      "weighted avg       0.61      0.54      0.53      1391\n",
      "\n",
      "Decision Tree Accuracy: 0.59\n",
      "-----------------------------------------------------\n",
      "              precision    recall  f1-score   support\n",
      "\n",
      "           0       0.57      0.56      0.56       463\n",
      "           1       0.57      0.60      0.58       464\n",
      "           2       0.65      0.62      0.64       464\n",
      "\n",
      "    accuracy                           0.59      1391\n",
      "   macro avg       0.60      0.59      0.59      1391\n",
      "weighted avg       0.60      0.59      0.59      1391\n",
      "\n",
      "Random Forest Accuracy: 0.67\n",
      "-----------------------------------------------------\n",
      "              precision    recall  f1-score   support\n",
      "\n",
      "           0       0.66      0.63      0.65       463\n",
      "           1       0.61      0.67      0.64       464\n",
      "           2       0.75      0.71      0.73       464\n",
      "\n",
      "    accuracy                           0.67      1391\n",
      "   macro avg       0.67      0.67      0.67      1391\n",
      "weighted avg       0.67      0.67      0.67      1391\n",
      "\n",
      "XGBoost Accuracy: 0.67\n",
      "-----------------------------------------------------\n",
      "              precision    recall  f1-score   support\n",
      "\n",
      "           0       0.68      0.63      0.66       463\n",
      "           1       0.59      0.71      0.65       464\n",
      "           2       0.78      0.68      0.73       464\n",
      "\n",
      "    accuracy                           0.67      1391\n",
      "   macro avg       0.68      0.67      0.68      1391\n",
      "weighted avg       0.68      0.67      0.68      1391\n",
      "\n",
      "\n",
      "Best Model:\n",
      "LogisticRegression with Accuracy: 0.70\n"
     ]
    }
   ],
   "source": [
    "# Define models\n",
    "models = {\n",
    "    \"Naive Bayes\": MultinomialNB(),\n",
    "    \"SVM\": SVC(),\n",
    "    \"LogisticRegression\": lg,\n",
    "    \"KNN\": knn,\n",
    "    \"Decision Tree\": dtc,\n",
    "    \"Random Forest\": rfc,\n",
    "    \"XGBoost\": xgb,\n",
    "}\n",
    "\n",
    "best_results = {}\n",
    "best_model_name = None\n",
    "best_accuracy = 0.0 \n",
    "\n",
    "# Train and evaluate models\n",
    "for name, model in models.items():\n",
    "    model.fit(X_train, y_train)  # Training  the model\n",
    "    y_pred = model.predict(X_text)  # Predict on the test set\n",
    "\n",
    "    accuracy = accuracy_score(y_test, y_pred)  # Calculate accuracy\n",
    "    best_results[name] = accuracy  # Store accuracy in the results dictionary\n",
    "\n",
    "    # Display accuracy and classification report for the current model\n",
    "    print(f\"{name} Accuracy: {accuracy:.2f}\")\n",
    "    print(\"-----------------------------------------------------\")\n",
    "    print(classification_report(y_test, y_pred))\n",
    "\n",
    "    # Check if this is the best accuracy so far\n",
    "    if accuracy > best_accuracy:\n",
    "        best_accuracy = accuracy\n",
    "        best_model_name = name\n",
    "\n",
    "# Display the model with the best accuracy at the end\n",
    "print(\"\\nBest Model:\")\n",
    "print(f\"{best_model_name} with Accuracy: {best_accuracy:.2f}\")"
   ]
  },
  {
   "cell_type": "code",
   "execution_count": 26,
   "metadata": {
    "execution": {
     "iopub.execute_input": "2025-02-01T19:43:44.372981Z",
     "iopub.status.busy": "2025-02-01T19:43:44.372550Z",
     "iopub.status.idle": "2025-02-01T19:43:44.646599Z",
     "shell.execute_reply": "2025-02-01T19:43:44.645590Z",
     "shell.execute_reply.started": "2025-02-01T19:43:44.372935Z"
    },
    "trusted": true
   },
   "outputs": [
    {
     "data": {
      "image/png": "[encoded data removed]",
      "text/plain": [
       "<Figure size 1200x600 with 1 Axes>"
      ]
     },
     "metadata": {},
     "output_type": "display_data"
    }
   ],
   "source": [
    "# Visualize the models Accuracy \n",
    "\n",
    "# Define a color palette\n",
    "colors = ['#1f77b4', '#ff7f0e','#FF9999', '#66B3FF', '#99FF99', '#FFCC99', '#FFD700']  \n",
    "\n",
    "plt.figure(figsize=(12, 6))\n",
    "bars = plt.bar(best_results.keys(), best_results.values(), color=colors)\n",
    "plt.title('Model Comparison', fontsize=16, fontweight='bold')\n",
    "plt.xlabel('Model', fontsize=14)\n",
    "plt.ylabel('Accuracy', fontsize=14)\n",
    "plt.ylim(0.5, 1.0)\n",
    "\n",
    "# Add value labels on top of bars\n",
    "for bar in bars:\n",
    "    height = bar.get_height()\n",
    "    plt.text(bar.get_x() + bar.get_width() / 2, height + 0.01, f'{height:.2f}', \n",
    "             ha='center', va='bottom', fontsize=12, fontweight='bold')\n",
    "\n",
    "plt.grid(axis='y', linestyle='--', alpha=0.7)\n",
    "plt.show()"
   ]
  },
  {
   "cell_type": "code",
   "execution_count": 27,
   "metadata": {
    "execution": {
     "iopub.execute_input": "2025-02-01T19:49:55.491337Z",
     "iopub.status.busy": "2025-02-01T19:49:55.490974Z",
     "iopub.status.idle": "2025-02-01T19:49:55.498058Z",
     "shell.execute_reply": "2025-02-01T19:49:55.496866Z",
     "shell.execute_reply.started": "2025-02-01T19:49:55.491311Z"
    },
    "trusted": true
   },
   "outputs": [],
   "source": [
    "import pickle\n",
    "model = models['LogisticRegression']\n",
    "with open('BestModel.pkl', 'wb') as file:\n",
    "    pickle.dump(model, file)"
   ]
  }
 ],
 "metadata": {
  "kaggle": {
   "accelerator": "none",
   "dataSources": [
    {
     "datasetId": 6560918,
     "sourceId": 10599713,
     "sourceType": "datasetVersion"
    }
   ],
   "dockerImageVersionId": 30839,
   "isGpuEnabled": false,
   "isInternetEnabled": true,
   "language": "python",
   "sourceType": "notebook"
  },
  "kernelspec": {
   "display_name": "Python 3",
   "language": "python",
   "name": "python3"
  },
  "language_info": {
   "codemirror_mode": {
    "name": "ipython",
    "version": 3
   },
   "file_extension": ".py",
   "mimetype": "text/x-python",
   "name": "python",
   "nbconvert_exporter": "python",
   "pygments_lexer": "ipython3",
   "version": "3.12.6"
  }
 },
 "nbformat": 4,
 "nbformat_minor": 4
}
